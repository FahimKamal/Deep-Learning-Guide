{
 "cells": [
  {
   "cell_type": "markdown",
   "metadata": {},
   "source": [
    "# Index\n",
    "- File I/O\n",
    "- OS Module"
   ]
  },
  {
   "cell_type": "markdown",
   "metadata": {},
   "source": [
    "# File  manipulation"
   ]
  },
  {
   "cell_type": "code",
   "execution_count": 9,
   "metadata": {},
   "outputs": [],
   "source": [
    "# make a file \n",
    "my_file = open('paragraph.txt', 'w')\n",
    "my_file.write('This is python file')\n",
    "my_file.close()"
   ]
  },
  {
   "cell_type": "code",
   "execution_count": 12,
   "metadata": {},
   "outputs": [
    {
     "name": "stdout",
     "output_type": "stream",
     "text": [
      "type: <class 'list'>\n",
      "['This is python file']\n"
     ]
    }
   ],
   "source": [
    "# open a file\n",
    "my_file = open('paragraph.txt', 'r')\n",
    "lines = my_file.readlines()\n",
    "print('type:', type(lines))\n",
    "print(lines)\n",
    "my_file.close()"
   ]
  },
  {
   "cell_type": "code",
   "execution_count": 19,
   "metadata": {},
   "outputs": [
    {
     "name": "stdout",
     "output_type": "stream",
     "text": [
      "text from file:\n",
      "CSE\n",
      "\n",
      "ETE\n",
      "\n",
      "EEE\n",
      "\n",
      "ME\n",
      "\n",
      "CE\n",
      "\n",
      "exlude new line:\n",
      "CSE\n",
      "ETE\n",
      "EEE\n",
      "ME\n",
      "CE\n"
     ]
    }
   ],
   "source": [
    "# best practics for file IO\n",
    "subjects = ['CSE', 'ETE', 'EEE', 'ME', 'CE']\n",
    "with open('subject.txt', 'w') as f:\n",
    "    for subject in subjects:\n",
    "        f.write(subject + '\\n')\n",
    "\n",
    "print('text from file:')\n",
    "with open('subject.txt', 'r') as f:\n",
    "    for line in f:\n",
    "        print(line)\n",
    "\n",
    "# exclude new line\n",
    "print('exlude new line:')\n",
    "with open('subject.txt', 'r') as f:\n",
    "    for line in f:\n",
    "        print(line.strip('\\n'))"
   ]
  },
  {
   "cell_type": "code",
   "execution_count": 20,
   "metadata": {},
   "outputs": [
    {
     "name": "stdout",
     "output_type": "stream",
     "text": [
      "read 1'st time\n",
      "CSE\n",
      "ETE\n",
      "EEE\n",
      "ME\n",
      "CE\n",
      "read 2'st time\n"
     ]
    }
   ],
   "source": [
    "with open('subject.txt', 'r') as f:\n",
    "    print('read 1\\'st time')\n",
    "    for line in f:\n",
    "        print(line.strip('\\n'))\n",
    "    \n",
    "    print('read 2\\'st time')\n",
    "    for line in f:\n",
    "        print(line.strip('\\n'))"
   ]
  },
  {
   "cell_type": "code",
   "execution_count": 22,
   "metadata": {},
   "outputs": [
    {
     "name": "stdout",
     "output_type": "stream",
     "text": [
      "<class '_io.TextIOWrapper'>\n"
     ]
    }
   ],
   "source": [
    "with open('subject.txt', 'r') as f:\n",
    "    print(type(f))"
   ]
  },
  {
   "cell_type": "markdown",
   "metadata": {},
   "source": [
    "# os Module"
   ]
  },
  {
   "cell_type": "code",
   "execution_count": 24,
   "metadata": {},
   "outputs": [
    {
     "name": "stdout",
     "output_type": "stream",
     "text": [
      "/home/menon/development/path-to-sl/python3_intro\n"
     ]
    }
   ],
   "source": [
    "import os\n",
    "\n",
    "current_working_dir = os.getcwd()\n",
    "print(current_working_dir)"
   ]
  },
  {
   "cell_type": "code",
   "execution_count": 25,
   "metadata": {},
   "outputs": [
    {
     "data": {
      "text/plain": [
       "['paragraph.txt',\n",
       " 'subject.txt',\n",
       " 'python3_intro_part_3.ipynb',\n",
       " 'python3_into_part_2.ipynb',\n",
       " '.ipynb_checkpoints',\n",
       " 'python3_intro_part_1.ipynb',\n",
       " 'Python3_intro_part_4.ipynb']"
      ]
     },
     "execution_count": 25,
     "metadata": {},
     "output_type": "execute_result"
    }
   ],
   "source": [
    "os.listdir(current_working_dir)"
   ]
  },
  {
   "cell_type": "code",
   "execution_count": 31,
   "metadata": {},
   "outputs": [
    {
     "name": "stdout",
     "output_type": "stream",
     "text": [
      "train  -created.\n",
      "test  -created.\n"
     ]
    }
   ],
   "source": [
    "# make some folder using os\n",
    "folders = ['train', 'test']\n",
    "for folder in folders:\n",
    "    os.makedirs(folder)\n",
    "    print(folder, ' -created.')\n"
   ]
  },
  {
   "cell_type": "code",
   "execution_count": 32,
   "metadata": {},
   "outputs": [
    {
     "ename": "FileExistsError",
     "evalue": "[Errno 17] File exists: 'train'",
     "output_type": "error",
     "traceback": [
      "\u001b[0;31m---------------------------------------------------------------------------\u001b[0m",
      "\u001b[0;31mFileExistsError\u001b[0m                           Traceback (most recent call last)",
      "\u001b[0;32m<ipython-input-32-de16421e01f5>\u001b[0m in \u001b[0;36m<module>\u001b[0;34m\u001b[0m\n\u001b[1;32m      3\u001b[0m \u001b[0mfolders\u001b[0m \u001b[0;34m=\u001b[0m \u001b[0;34m[\u001b[0m\u001b[0;34m'train'\u001b[0m\u001b[0;34m,\u001b[0m \u001b[0;34m'test'\u001b[0m\u001b[0;34m]\u001b[0m\u001b[0;34m\u001b[0m\u001b[0;34m\u001b[0m\u001b[0m\n\u001b[1;32m      4\u001b[0m \u001b[0;32mfor\u001b[0m \u001b[0mfolder\u001b[0m \u001b[0;32min\u001b[0m \u001b[0mfolders\u001b[0m\u001b[0;34m:\u001b[0m\u001b[0;34m\u001b[0m\u001b[0;34m\u001b[0m\u001b[0m\n\u001b[0;32m----> 5\u001b[0;31m     \u001b[0mos\u001b[0m\u001b[0;34m.\u001b[0m\u001b[0mmakedirs\u001b[0m\u001b[0;34m(\u001b[0m\u001b[0mfolder\u001b[0m\u001b[0;34m)\u001b[0m\u001b[0;34m\u001b[0m\u001b[0;34m\u001b[0m\u001b[0m\n\u001b[0m\u001b[1;32m      6\u001b[0m     \u001b[0mprint\u001b[0m\u001b[0;34m(\u001b[0m\u001b[0mfolder\u001b[0m\u001b[0;34m,\u001b[0m \u001b[0;34m' -created.'\u001b[0m\u001b[0;34m)\u001b[0m\u001b[0;34m\u001b[0m\u001b[0;34m\u001b[0m\u001b[0m\n",
      "\u001b[0;32m~/anaconda3/lib/python3.7/os.py\u001b[0m in \u001b[0;36mmakedirs\u001b[0;34m(name, mode, exist_ok)\u001b[0m\n\u001b[1;32m    219\u001b[0m             \u001b[0;32mreturn\u001b[0m\u001b[0;34m\u001b[0m\u001b[0;34m\u001b[0m\u001b[0m\n\u001b[1;32m    220\u001b[0m     \u001b[0;32mtry\u001b[0m\u001b[0;34m:\u001b[0m\u001b[0;34m\u001b[0m\u001b[0;34m\u001b[0m\u001b[0m\n\u001b[0;32m--> 221\u001b[0;31m         \u001b[0mmkdir\u001b[0m\u001b[0;34m(\u001b[0m\u001b[0mname\u001b[0m\u001b[0;34m,\u001b[0m \u001b[0mmode\u001b[0m\u001b[0;34m)\u001b[0m\u001b[0;34m\u001b[0m\u001b[0;34m\u001b[0m\u001b[0m\n\u001b[0m\u001b[1;32m    222\u001b[0m     \u001b[0;32mexcept\u001b[0m \u001b[0mOSError\u001b[0m\u001b[0;34m:\u001b[0m\u001b[0;34m\u001b[0m\u001b[0;34m\u001b[0m\u001b[0m\n\u001b[1;32m    223\u001b[0m         \u001b[0;31m# Cannot rely on checking for EEXIST, since the operating system\u001b[0m\u001b[0;34m\u001b[0m\u001b[0;34m\u001b[0m\u001b[0;34m\u001b[0m\u001b[0m\n",
      "\u001b[0;31mFileExistsError\u001b[0m: [Errno 17] File exists: 'train'"
     ]
    }
   ],
   "source": [
    "# make some folder using os\n",
    "# if file already exists then what happend ? \n",
    "folders = ['train', 'test']\n",
    "for folder in folders:\n",
    "    os.makedirs(folder)\n",
    "    print(folder, ' -created.')"
   ]
  },
  {
   "cell_type": "code",
   "execution_count": 33,
   "metadata": {},
   "outputs": [
    {
     "name": "stdout",
     "output_type": "stream",
     "text": [
      "train  -already exists.\n",
      "test  -already exists.\n"
     ]
    }
   ],
   "source": [
    "# solution\n",
    "folders = ['train', 'test']\n",
    "for folder in folders:\n",
    "    if not os.path.exists(folder):\n",
    "        os.makedirs(folder)\n",
    "        print(folder, ' -created.')\n",
    "    else:\n",
    "        print(folder, ' -already exists.')"
   ]
  },
  {
   "cell_type": "code",
   "execution_count": 37,
   "metadata": {},
   "outputs": [
    {
     "name": "stdout",
     "output_type": "stream",
     "text": [
      "cat\n",
      "  train/cat\n",
      "dog\n",
      "  train/dog\n"
     ]
    }
   ],
   "source": [
    "class_names = ['cat', 'dog']\n",
    "\n",
    "for _class in class_names:\n",
    "    train_path = os.path.join('train', _class)\n",
    "    print(_class)\n",
    "    print(' ', train_path)\n",
    "    if not os.path.exists(train_path):\n",
    "        os.makedirs(train_path)\n",
    "        print('  creation [ Done ]')\n"
   ]
  },
  {
   "cell_type": "code",
   "execution_count": 38,
   "metadata": {},
   "outputs": [
    {
     "name": "stdout",
     "output_type": "stream",
     "text": [
      "/home/menon/development/path-to-sl/python3_intro/train/cat\n"
     ]
    }
   ],
   "source": [
    "train_cat_absulote_path = os.path.join(os.getcwd(), 'train/cat')\n",
    "print(train_cat_absulote_path)"
   ]
  },
  {
   "cell_type": "code",
   "execution_count": 42,
   "metadata": {},
   "outputs": [
    {
     "data": {
      "text/plain": [
       "4096"
      ]
     },
     "execution_count": 42,
     "metadata": {},
     "output_type": "execute_result"
    }
   ],
   "source": [
    "# get size of the folder\n",
    "os.path.getsize(train_cat_absulote_path)"
   ]
  },
  {
   "cell_type": "code",
   "execution_count": 41,
   "metadata": {},
   "outputs": [
    {
     "name": "stdout",
     "output_type": "stream",
     "text": [
      "4.0K\t/home/menon/development/path-to-sl/python3_intro/train/cat\r\n"
     ]
    }
   ],
   "source": [
    "# using shell command\n",
    "!du -sh /home/menon/development/path-to-sl/python3_intro/train/cat"
   ]
  },
  {
   "cell_type": "code",
   "execution_count": null,
   "metadata": {},
   "outputs": [],
   "source": []
  }
 ],
 "metadata": {
  "kernelspec": {
   "display_name": "Python 3",
   "language": "python",
   "name": "python3"
  },
  "language_info": {
   "codemirror_mode": {
    "name": "ipython",
    "version": 3
   },
   "file_extension": ".py",
   "mimetype": "text/x-python",
   "name": "python",
   "nbconvert_exporter": "python",
   "pygments_lexer": "ipython3",
   "version": "3.7.1"
  }
 },
 "nbformat": 4,
 "nbformat_minor": 2
}
