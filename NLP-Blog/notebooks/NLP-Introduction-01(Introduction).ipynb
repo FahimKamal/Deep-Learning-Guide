{
 "cells": [
  {
   "cell_type": "markdown",
   "metadata": {},
   "source": [
    "# Introduction to Natural Language Processing "
   ]
  },
  {
   "cell_type": "markdown",
   "metadata": {},
   "source": [
    "## Topics\n",
    "* Natural Language(NL)\n",
    "* Natural Language Processing(NLP)\n",
    "* NLP In Real Life\n",
    "* NLP Techniques\n",
    "* Libraries for NLP\n",
    "* Environment Setup and Install NLTK"
   ]
  },
  {
   "cell_type": "markdown",
   "metadata": {},
   "source": [
    "## Natural Language\n",
    "\n",
    "Natural Language is human language which evovle naturally without conscious planning.\n",
    "Example: English, Bengali, Frence etc."
   ]
  },
  {
   "cell_type": "markdown",
   "metadata": {},
   "source": [
    "## Natural Language Processing\n",
    "\n",
    "NLP is a field in machine learning with the ability of a computer to understand, analyze, manipulate, and potentially generate human language."
   ]
  },
  {
   "cell_type": "markdown",
   "metadata": {},
   "source": [
    "## Natural Language in Real Life\n",
    "\n",
    "* Information Retrieval(Google finds relevant and similar results).\n",
    "* Information Extraction(Gmail structures events from emails).\n",
    "* Machine Translation(Google Translate translates language from one language to another).\n",
    "* Text Simplification(Rewordify simplifies the meaning of sentences). Shashi Tharoor tweets could be used(pun intended).\n",
    "* Sentiment Analysis(Hater News gives us the sentiment of the user).\n",
    "* Text Summarization(Smmry or Reddit’s autotldr gives a summary of sentences).\n",
    "* Spam Filter(Gmail filters spam emails separately).\n",
    "* Auto-Predict(Google Search predicts user search results).\n",
    "* Auto-Correct(Google Keyboard and Grammarly correct words otherwise spelled wrong).\n",
    "* Speech Recognition(Google WebSpeech or Vocalware).\n",
    "* Question Answering(IBM Watson’s answers to a query).\n",
    "* Natural Language Generation(Generation of text from image or video data.)"
   ]
  },
  {
   "cell_type": "markdown",
   "metadata": {},
   "source": [
    "## NLP Techniques\n",
    "\n",
    "\n",
    "* Tokenization\n",
    "* Stemming\n",
    "* Lemmatization\n",
    "* Part of Speech Tagging(POS Tagging)\n",
    "* Name Entity Recognition(NER)\n",
    "* Parsing\n",
    "* Morphological Segmentation\n",
    "\n"
   ]
  },
  {
   "cell_type": "markdown",
   "metadata": {},
   "source": [
    "## Libraries for NLP Task\n",
    "\n",
    "* Natural Language Toolkit(nltk)\n",
    "* scikit-learn\n",
    "* Gensim\n",
    "* Spacy\n",
    "* TextBlob\n",
    "* Stanford CoreNLP\n"
   ]
  },
  {
   "cell_type": "markdown",
   "metadata": {},
   "source": [
    "## Environment Setup and Installing NLTK\n",
    "\n",
    "**Environment**\n",
    "* Install Anaconda\n",
    "* Create a conda environment\n",
    "\n",
    "  ```conda create -n nlp python=3.5```\n",
    "  \n",
    "  ```source activate nlp```\n",
    "\n",
    "**Install NLTK**\n",
    "\n",
    "```pip install nltk```"
   ]
  },
  {
   "cell_type": "code",
   "execution_count": null,
   "metadata": {},
   "outputs": [],
   "source": [
    "import nltk\n",
    "\n",
    "nltk.download('punkt')\n",
    "\n"
   ]
  },
  {
   "cell_type": "markdown",
   "metadata": {},
   "source": [
    "## Thank you."
   ]
  },
  {
   "cell_type": "code",
   "execution_count": null,
   "metadata": {},
   "outputs": [],
   "source": []
  }
 ],
 "metadata": {
  "kernelspec": {
   "display_name": "Python 3",
   "language": "python",
   "name": "python3"
  },
  "language_info": {
   "codemirror_mode": {
    "name": "ipython",
    "version": 3
   },
   "file_extension": ".py",
   "mimetype": "text/x-python",
   "name": "python",
   "nbconvert_exporter": "python",
   "pygments_lexer": "ipython3",
   "version": "3.6.8"
  }
 },
 "nbformat": 4,
 "nbformat_minor": 2
}
