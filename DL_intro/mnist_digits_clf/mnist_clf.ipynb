{
  "nbformat": 4,
  "nbformat_minor": 0,
  "metadata": {
    "colab": {
      "name": "mnist_clf.ipynb",
      "version": "0.3.2",
      "provenance": [],
      "collapsed_sections": [],
      "toc_visible": true
    },
    "language_info": {
      "codemirror_mode": {
        "name": "ipython",
        "version": 3
      },
      "file_extension": ".py",
      "mimetype": "text/x-python",
      "name": "python",
      "nbconvert_exporter": "python",
      "pygments_lexer": "ipython3",
      "version": "3.7.1"
    },
    "kernelspec": {
      "name": "python3",
      "display_name": "Python 3"
    },
    "accelerator": "GPU"
  },
  "cells": [
    {
      "cell_type": "markdown",
      "metadata": {
        "id": "u88xkF4SCs9W",
        "colab_type": "text"
      },
      "source": [
        "# Index\n",
        " - Loading dataset\n",
        " - Annotomy of MNIST dataset\n",
        " - Data normalization\n",
        " - Creating model\n",
        " - Compile model\n",
        " - Train or Fit model\n",
        " - Evaluating Model\n",
        " - Visualizing the training process\n",
        " - Save and load model\n",
        " - Test a single image"
      ]
    },
    {
      "cell_type": "markdown",
      "metadata": {
        "id": "xi0P3jYfCs9g",
        "colab_type": "text"
      },
      "source": [
        "# Loading  dataset\n",
        "MNIST dataset, which contains 70000 28x28 grayscale images with 10 different classes. Keras splits it in a training set with 60000 instances and a testing set with 10000 instances."
      ]
    },
    {
      "cell_type": "code",
      "metadata": {
        "id": "RgPd3g7ACs9l",
        "colab_type": "code",
        "colab": {}
      },
      "source": [
        "from keras.datasets import mnist\n",
        "\n",
        "(x_train, y_train), (x_test, y_test) = mnist.load_data()"
      ],
      "execution_count": 0,
      "outputs": []
    },
    {
      "cell_type": "markdown",
      "metadata": {
        "id": "W8VlQjO1Cs97",
        "colab_type": "text"
      },
      "source": [
        "# Anatomy of MNIST dataset"
      ]
    },
    {
      "cell_type": "code",
      "metadata": {
        "id": "iJXi3bQnCs-B",
        "colab_type": "code",
        "colab": {}
      },
      "source": [
        "print('x_train shape:', x_train.shape)\n",
        "print('y_train shape:', y_train.shape)\n",
        "print('x_test shape :', x_test.shape)\n",
        "print('y_test shpae :', y_test.shape)"
      ],
      "execution_count": 0,
      "outputs": []
    },
    {
      "cell_type": "code",
      "metadata": {
        "id": "GUgS6FqkCs-Y",
        "colab_type": "code",
        "colab": {}
      },
      "source": [
        "# plot some data\n",
        "from matplotlib import pyplot as plt\n",
        "\n",
        "image = x_train[0] \n",
        "label = y_train[0]\n",
        "plt.imshow(image, cmap='gray')\n",
        "plt.xlabel('label = {}'.format(label))\n",
        "plt.show()"
      ],
      "execution_count": 0,
      "outputs": []
    },
    {
      "cell_type": "code",
      "metadata": {
        "id": "hd4TaCx1Cs-q",
        "colab_type": "code",
        "colab": {}
      },
      "source": [
        "# print(x_train[0])"
      ],
      "execution_count": 0,
      "outputs": []
    },
    {
      "cell_type": "code",
      "metadata": {
        "id": "r9_jzpKgCs-1",
        "colab_type": "code",
        "colab": {}
      },
      "source": [
        "ROW = 3\n",
        "COLUMN = 4\n",
        "for i in range(ROW * COLUMN):\n",
        "    image = x_train[i]\n",
        "    label = y_train[i]\n",
        "    plt.subplot(ROW, COLUMN, i+1)\n",
        "    plt.imshow(image, cmap='gray')\n",
        "    plt.title('label = {}'.format(label))\n",
        "    plt.axis('off')  # do not show axis value\n",
        "plt.tight_layout()   # automatic padding between subplots\n",
        "# plt.savefig('images/mnist_plot.png')\n",
        "plt.show()"
      ],
      "execution_count": 0,
      "outputs": []
    },
    {
      "cell_type": "markdown",
      "metadata": {
        "id": "sILcBulLCs_E",
        "colab_type": "text"
      },
      "source": [
        "# Data normalization"
      ]
    },
    {
      "cell_type": "code",
      "metadata": {
        "id": "7h-M0w52Cs_I",
        "colab_type": "code",
        "colab": {}
      },
      "source": [
        "# do some preprocessing on data\n",
        "x_train = x_train.astype('float32')\n",
        "x_test = x_test.astype('float32')\n",
        "x_train /= 255\n",
        "x_test /= 255\n",
        "\n",
        "x_train = x_train.reshape(x_train.shape[0], 28, 28, 1)\n",
        "x_test = x_test.reshape(x_test.shape[0], 28, 28, 1)"
      ],
      "execution_count": 0,
      "outputs": []
    },
    {
      "cell_type": "code",
      "metadata": {
        "id": "nptQxXF-Cs_X",
        "colab_type": "code",
        "colab": {}
      },
      "source": [
        "print('after preprocess new shape of data:')\n",
        "print('-' * 35)\n",
        "print('x_train shape:', x_train.shape)\n",
        "print('y_train shape:', y_train.shape)\n",
        "print('x_test shape :', x_test.shape)\n",
        "print('y_test shpae :', y_test.shape)"
      ],
      "execution_count": 0,
      "outputs": []
    },
    {
      "cell_type": "code",
      "metadata": {
        "id": "J7saziI-Cs_r",
        "colab_type": "code",
        "colab": {}
      },
      "source": [
        "# print(x_train[0])"
      ],
      "execution_count": 0,
      "outputs": []
    },
    {
      "cell_type": "markdown",
      "metadata": {
        "id": "vSb0VMkOCs_1",
        "colab_type": "text"
      },
      "source": [
        "# Creating model"
      ]
    },
    {
      "cell_type": "markdown",
      "metadata": {
        "id": "Txahmcy0Cs_5",
        "colab_type": "text"
      },
      "source": [
        "# Creating a model with the sequential API\n",
        "The easiest way of creating a model in Keras is by using the `sequential API`, which lets you stack one layer after the other. The problem with the sequential API is that `it doesn’t allow models to have multiple inputs or outputs`, which are needed for some problems.\n",
        "\n",
        "Nevertheless, the sequential API is a perfect choice for most problems.\n",
        "\n",
        "To create a convolutional neural network we only need to create a Sequential object and use the add function to add layers."
      ]
    },
    {
      "cell_type": "code",
      "metadata": {
        "id": "x7XXHDqPCs_9",
        "colab_type": "code",
        "outputId": "4595ecb5-25d9-4b6a-c14d-337e75d0665d",
        "colab": {
          "base_uri": "https://localhost:8080/",
          "height": 287
        }
      },
      "source": [
        "import os \n",
        "os.environ['TF_CPP_LOG_LEVEL'] = \"1\" # ignore tensorflwo worning\n",
        "\n",
        "from keras.models import Sequential\n",
        "from keras.layers import Conv2D, MaxPool2D, Dense, Flatten, Dropout\n",
        "\n",
        "model = Sequential()\n",
        "model.add(Conv2D(filters=32, kernel_size=(5,5), activation='relu', input_shape=x_train.shape[1:]))\n",
        "model.add(Conv2D(filters=32, kernel_size=(5,5), activation='relu'))\n",
        "model.add(MaxPool2D(pool_size=(2, 2)))\n",
        "model.add(Dropout(rate=0.25))\n",
        "model.add(Conv2D(filters=64, kernel_size=(3, 3), activation='relu'))\n",
        "model.add(Conv2D(filters=64, kernel_size=(3, 3), activation='relu'))\n",
        "model.add(MaxPool2D(pool_size=(2, 2)))\n",
        "model.add(Dropout(rate=0.25))\n",
        "model.add(Flatten())\n",
        "model.add(Dense(256, activation='relu'))\n",
        "model.add(Dropout(rate=0.5))\n",
        "model.add(Dense(10, activation='softmax'))"
      ],
      "execution_count": 0,
      "outputs": [
        {
          "output_type": "stream",
          "text": [
            "WARNING: Logging before flag parsing goes to stderr.\n",
            "W0707 10:49:44.898265 140411859654528 deprecation_wrapper.py:119] From /usr/local/lib/python3.6/dist-packages/keras/backend/tensorflow_backend.py:74: The name tf.get_default_graph is deprecated. Please use tf.compat.v1.get_default_graph instead.\n",
            "\n",
            "W0707 10:49:44.932361 140411859654528 deprecation_wrapper.py:119] From /usr/local/lib/python3.6/dist-packages/keras/backend/tensorflow_backend.py:517: The name tf.placeholder is deprecated. Please use tf.compat.v1.placeholder instead.\n",
            "\n",
            "W0707 10:49:45.039416 140411859654528 deprecation_wrapper.py:119] From /usr/local/lib/python3.6/dist-packages/keras/backend/tensorflow_backend.py:4138: The name tf.random_uniform is deprecated. Please use tf.random.uniform instead.\n",
            "\n",
            "W0707 10:49:45.076821 140411859654528 deprecation_wrapper.py:119] From /usr/local/lib/python3.6/dist-packages/keras/backend/tensorflow_backend.py:3976: The name tf.nn.max_pool is deprecated. Please use tf.nn.max_pool2d instead.\n",
            "\n",
            "W0707 10:49:45.081702 140411859654528 deprecation_wrapper.py:119] From /usr/local/lib/python3.6/dist-packages/keras/backend/tensorflow_backend.py:133: The name tf.placeholder_with_default is deprecated. Please use tf.compat.v1.placeholder_with_default instead.\n",
            "\n",
            "W0707 10:49:45.091575 140411859654528 deprecation.py:506] From /usr/local/lib/python3.6/dist-packages/keras/backend/tensorflow_backend.py:3445: calling dropout (from tensorflow.python.ops.nn_ops) with keep_prob is deprecated and will be removed in a future version.\n",
            "Instructions for updating:\n",
            "Please use `rate` instead of `keep_prob`. Rate should be set to `rate = 1 - keep_prob`.\n"
          ],
          "name": "stderr"
        }
      ]
    },
    {
      "cell_type": "markdown",
      "metadata": {
        "id": "62m45LUmCtAI",
        "colab_type": "text"
      },
      "source": [
        "The sequential API also supports another syntax where the layers are passed to the constructor directly."
      ]
    },
    {
      "cell_type": "code",
      "metadata": {
        "id": "02EgUB8WCtAK",
        "colab_type": "code",
        "colab": {}
      },
      "source": [
        "from keras.models import Sequential\n",
        "from keras.layers import Conv2D, MaxPool2D, Dense, Flatten, Dropout\n",
        "\n",
        "model = Sequential([\n",
        "    Conv2D(filters=32, kernel_size=(5,5), activation='relu', input_shape=x_train.shape[1:]),\n",
        "    Conv2D(filters=32, kernel_size=(5,5), activation='relu'),\n",
        "    MaxPool2D(pool_size=(2, 2)),\n",
        "    Dropout(rate=0.25),\n",
        "    Conv2D(filters=64, kernel_size=(3,3), activation='relu'),\n",
        "    Conv2D(filters=64, kernel_size=(3,3), activation='relu'),\n",
        "    MaxPool2D(pool_size=(2, 2)),\n",
        "    Dropout(rate=0.25),\n",
        "    Flatten(),\n",
        "    Dense(256, activation='relu'),\n",
        "    Dropout(rate=0.5),\n",
        "    Dense(10, activation='softmax')\n",
        "])\n"
      ],
      "execution_count": 0,
      "outputs": []
    },
    {
      "cell_type": "markdown",
      "metadata": {
        "id": "MmtuPvhYCtAW",
        "colab_type": "text"
      },
      "source": [
        "# Creating a model with the Functional API\n",
        "Alternatively, the functional API allows you to create the same models but offers you more flexibility at the cost of simplicity and readability.\n",
        "\n",
        "It `can be used with multiple input and output layers as well as shared layers`, which enables you to build really complex network structures.\n",
        "\n",
        "When using the `functional API` we always need to pass the previous layer to the current layer. It also requires the use of an input layer."
      ]
    },
    {
      "cell_type": "code",
      "metadata": {
        "id": "Lkhe2fPaCtAa",
        "colab_type": "code",
        "colab": {}
      },
      "source": [
        "from keras.models import Model\n",
        "from keras.layers import Conv2D, MaxPool2D, Dense, Flatten, Dropout, Input\n",
        "\n",
        "inputs = Input(shape=x_train.shape[1:])\n",
        "\n",
        "x = Conv2D(filters=32, kernel_size=(5,5), activation='relu')(inputs)\n",
        "x = Conv2D(filters=32, kernel_size=(5,5), activation='relu')(x)\n",
        "x = MaxPool2D(pool_size=(2, 2))(x)\n",
        "x = Dropout(rate=0.25)(x)\n",
        "\n",
        "x = Conv2D(filters=64, kernel_size=(3,3), activation='relu')(x)\n",
        "x = Conv2D(filters=64, kernel_size=(3,3), activation='relu')(x)\n",
        "x = MaxPool2D(pool_size=(2, 2))(x)\n",
        "x = Dropout(rate=0.25)(x)\n",
        "\n",
        "x = Flatten()(x)\n",
        "x = Dense(256, activation='relu')(x)\n",
        "x = Dropout(rate=0.5)(x)\n",
        "predictions = Dense(10, activation='softmax')(x)\n",
        "\n",
        "model = Model(inputs=inputs, outputs=predictions)"
      ],
      "execution_count": 0,
      "outputs": []
    },
    {
      "cell_type": "markdown",
      "metadata": {
        "id": "sCtKscUkCtAl",
        "colab_type": "text"
      },
      "source": [
        "# Compile a model\n",
        "Before we can start training our model we need to configure the learning process. For this, we need to specify an optimizer, a loss function and optionally some metrics like accuracy.\n",
        "\n",
        "The `loss function` is a measure on how good our model is at achieving the given objective.\n",
        "\n",
        "An `optimizer` is used to minimize the loss(objective) function by updating the weights using the gradients"
      ]
    },
    {
      "cell_type": "code",
      "metadata": {
        "id": "DICLmVP2CtAp",
        "colab_type": "code",
        "outputId": "d67d8d68-e625-425e-d58d-01c1b048f211",
        "colab": {
          "base_uri": "https://localhost:8080/",
          "height": 108
        }
      },
      "source": [
        "model.compile(\n",
        "    loss='sparse_categorical_crossentropy', \n",
        "    optimizer='adam', \n",
        "    metrics=['accuracy']\n",
        ")"
      ],
      "execution_count": 0,
      "outputs": [
        {
          "output_type": "stream",
          "text": [
            "W0707 10:49:58.410506 140411859654528 deprecation_wrapper.py:119] From /usr/local/lib/python3.6/dist-packages/keras/optimizers.py:790: The name tf.train.Optimizer is deprecated. Please use tf.compat.v1.train.Optimizer instead.\n",
            "\n",
            "W0707 10:49:58.435883 140411859654528 deprecation_wrapper.py:119] From /usr/local/lib/python3.6/dist-packages/keras/backend/tensorflow_backend.py:3341: The name tf.log is deprecated. Please use tf.math.log instead.\n",
            "\n"
          ],
          "name": "stderr"
        }
      ]
    },
    {
      "cell_type": "code",
      "metadata": {
        "id": "fV0g_elTGcvS",
        "colab_type": "code",
        "colab": {}
      },
      "source": [
        "model.summary()"
      ],
      "execution_count": 0,
      "outputs": []
    },
    {
      "cell_type": "markdown",
      "metadata": {
        "id": "5wKu5tVACtAy",
        "colab_type": "text"
      },
      "source": [
        "# Train or Fit model"
      ]
    },
    {
      "cell_type": "code",
      "metadata": {
        "id": "otT5hZKQCtA1",
        "colab_type": "code",
        "outputId": "66c09d9a-6349-488e-85e7-6bf915ba2ee1",
        "colab": {
          "base_uri": "https://localhost:8080/",
          "height": 269
        }
      },
      "source": [
        "epochs = 5\n",
        "history = model.fit(x=x_train, y=y_train, epochs=5)"
      ],
      "execution_count": 0,
      "outputs": [
        {
          "output_type": "stream",
          "text": [
            "W0707 10:50:01.175103 140411859654528 deprecation.py:323] From /usr/local/lib/python3.6/dist-packages/tensorflow/python/ops/math_grad.py:1250: add_dispatch_support.<locals>.wrapper (from tensorflow.python.ops.array_ops) is deprecated and will be removed in a future version.\n",
            "Instructions for updating:\n",
            "Use tf.where in 2.0, which has the same broadcast rule as np.where\n"
          ],
          "name": "stderr"
        },
        {
          "output_type": "stream",
          "text": [
            "Epoch 1/5\n",
            "60000/60000 [==============================] - 16s 274us/step - loss: 0.2008 - acc: 0.9359\n",
            "Epoch 2/5\n",
            "60000/60000 [==============================] - 10s 162us/step - loss: 0.0702 - acc: 0.9793\n",
            "Epoch 3/5\n",
            "60000/60000 [==============================] - 10s 160us/step - loss: 0.0571 - acc: 0.9836\n",
            "Epoch 4/5\n",
            "60000/60000 [==============================] - 10s 161us/step - loss: 0.0486 - acc: 0.9857\n",
            "Epoch 5/5\n",
            "60000/60000 [==============================] - 10s 161us/step - loss: 0.0418 - acc: 0.9880\n"
          ],
          "name": "stdout"
        }
      ]
    },
    {
      "cell_type": "markdown",
      "metadata": {
        "id": "OZeTTvirCtBG",
        "colab_type": "text"
      },
      "source": [
        "# Evaluating Mode\n",
        "Finally, you may evaluate the trained model with x_test and y_test using one line of code:"
      ]
    },
    {
      "cell_type": "code",
      "metadata": {
        "id": "Cqft0tx-CtBK",
        "colab_type": "code",
        "outputId": "5afeec7d-dc1b-4b2d-963f-bd353cafdc48",
        "colab": {
          "base_uri": "https://localhost:8080/",
          "height": 53
        }
      },
      "source": [
        "model.evaluate(x_test, y_test)"
      ],
      "execution_count": 0,
      "outputs": [
        {
          "output_type": "stream",
          "text": [
            "10000/10000 [==============================] - 1s 70us/step\n"
          ],
          "name": "stdout"
        },
        {
          "output_type": "execute_result",
          "data": {
            "text/plain": [
              "[0.031649693254509476, 0.9913]"
            ]
          },
          "metadata": {
            "tags": []
          },
          "execution_count": 22
        }
      ]
    },
    {
      "cell_type": "code",
      "metadata": {
        "id": "el5qdJ9tCtBT",
        "colab_type": "code",
        "colab": {}
      },
      "source": [
        "# You can see we have got 99% accuracy on test data"
      ],
      "execution_count": 0,
      "outputs": []
    },
    {
      "cell_type": "markdown",
      "metadata": {
        "id": "n6XBZCxRCtBb",
        "colab_type": "text"
      },
      "source": [
        "# Visualizing the training process\n",
        "We can visualize our training and testing accuracy and loss for each epoch so we can get intuition about the performance of our model. The accuracy and loss over epochs are saved in the history variable we got whilst training and we will use Matplotlib to visualize this data"
      ]
    },
    {
      "cell_type": "code",
      "metadata": {
        "id": "WIkHumDuCtBg",
        "colab_type": "code",
        "outputId": "d8094178-0c88-4944-d97b-7be6cab7ff9d",
        "colab": {
          "base_uri": "https://localhost:8080/",
          "height": 331
        }
      },
      "source": [
        "plt.plot(history.history['acc'], label='training accuracy')\n",
        "# plt.plot(history.history['val_acc'], label='testing accuracy')\n",
        "plt.title('Accuracy')\n",
        "plt.xlabel('epochs')\n",
        "plt.ylabel('accuracy')\n",
        "plt.legend()"
      ],
      "execution_count": 0,
      "outputs": [
        {
          "output_type": "stream",
          "text": [
            "val [0.031649693254509476, 0.9913]\n"
          ],
          "name": "stdout"
        },
        {
          "output_type": "execute_result",
          "data": {
            "text/plain": [
              "<matplotlib.legend.Legend at 0x7fb3d42d4e10>"
            ]
          },
          "metadata": {
            "tags": []
          },
          "execution_count": 23
        },
        {
          "output_type": "display_data",
          "data": {
            "image/png": "[encoded data removed]",
            "text/plain": [
              "<Figure size 432x288 with 1 Axes>"
            ]
          },
          "metadata": {
            "tags": []
          }
        }
      ]
    },
    {
      "cell_type": "code",
      "metadata": {
        "id": "cIyr1QXBCtB0",
        "colab_type": "code",
        "outputId": "885dfdf9-c9b8-463d-de12-f1edd4651362",
        "colab": {
          "base_uri": "https://localhost:8080/",
          "height": 313
        }
      },
      "source": [
        "plt.plot(history.history['loss'], label='training loss')\n",
        "# plt.plot(history.history['val_loss'], label='testing loss')\n",
        "plt.title('Loss')\n",
        "plt.xlabel('epochs')\n",
        "plt.ylabel('loss')\n",
        "plt.legend()"
      ],
      "execution_count": 0,
      "outputs": [
        {
          "output_type": "execute_result",
          "data": {
            "text/plain": [
              "<matplotlib.legend.Legend at 0x7fb3d423e2b0>"
            ]
          },
          "metadata": {
            "tags": []
          },
          "execution_count": 24
        },
        {
          "output_type": "display_data",
          "data": {
            "image/png": "[encoded data removed]",
            "text/plain": [
              "<Figure size 432x288 with 1 Axes>"
            ]
          },
          "metadata": {
            "tags": []
          }
        }
      ]
    },
    {
      "cell_type": "markdown",
      "metadata": {
        "id": "LP-rPt4vCtCC",
        "colab_type": "text"
      },
      "source": [
        "# Save and load model"
      ]
    },
    {
      "cell_type": "code",
      "metadata": {
        "id": "_JTP1au1CtCD",
        "colab_type": "code",
        "outputId": "bdb96969-86e3-4f1d-c2bc-3cfe4bef3fdb",
        "colab": {
          "base_uri": "https://localhost:8080/",
          "height": 106
        }
      },
      "source": [
        "import os\n",
        "\n",
        "model_name = 'mnist_clf.h5'\n",
        "model.save(model_name)\n",
        "print('model saved to', os.getcwd())\n",
        "!ls -ltr\n"
      ],
      "execution_count": 0,
      "outputs": [
        {
          "output_type": "stream",
          "text": [
            "model saved to /content\n",
            "total 5556\n",
            "drwxr-xr-x 1 root root    4096 Jun 18 16:14 sample_data\n",
            "-rw-r--r-- 1 root root 2841808 Jul  7 10:58 mnist_cls.h5\n",
            "-rw-r--r-- 1 root root 2841808 Jul  7 11:12 mnist_clf.h5\n"
          ],
          "name": "stdout"
        }
      ]
    },
    {
      "cell_type": "code",
      "metadata": {
        "id": "KK6wFhxBFcD3",
        "colab_type": "code",
        "colab": {}
      },
      "source": [
        "from keras.models import load_model\n",
        "\n",
        "loaded_model = load_model(model_name)\n",
        "# model.summary()"
      ],
      "execution_count": 0,
      "outputs": []
    },
    {
      "cell_type": "markdown",
      "metadata": {
        "id": "jRRdwVzyCtCO",
        "colab_type": "text"
      },
      "source": [
        "# Test a single image"
      ]
    },
    {
      "cell_type": "code",
      "metadata": {
        "id": "ko4vGhTGCtCQ",
        "colab_type": "code",
        "outputId": "22b6614f-33a4-4647-e04c-2481b78ef32b",
        "colab": {
          "base_uri": "https://localhost:8080/",
          "height": 287
        }
      },
      "source": [
        "image_index = 0 # 4444\n",
        "test_image = x_test[image_index].reshape(28, 28)\n",
        "plt.imshow(test_image, cmap='gray')\n"
      ],
      "execution_count": 0,
      "outputs": [
        {
          "output_type": "execute_result",
          "data": {
            "text/plain": [
              "<matplotlib.image.AxesImage at 0x7fb36294e4a8>"
            ]
          },
          "metadata": {
            "tags": []
          },
          "execution_count": 51
        },
        {
          "output_type": "display_data",
          "data": {
            "image/png": "[encoded data removed]",
            "text/plain": [
              "<Figure size 432x288 with 1 Axes>"
            ]
          },
          "metadata": {
            "tags": []
          }
        }
      ]
    },
    {
      "cell_type": "code",
      "metadata": {
        "id": "rPfB2DcBG66C",
        "colab_type": "code",
        "outputId": "bddc7beb-a65b-415b-f976-a741c83a93e9",
        "colab": {
          "base_uri": "https://localhost:8080/",
          "height": 53
        }
      },
      "source": [
        "test_image = test_image.reshape(1, 28, 28, 1) # make image batch\n",
        "\n",
        "pred = loaded_model.predict(test_image)       # prediction\n",
        "\n",
        "print('pred lenght:', len(pred[0]))\n",
        "best_prediction = pred.argmax()\n",
        "print('best_prediction', best_prediction)"
      ],
      "execution_count": 0,
      "outputs": [
        {
          "output_type": "stream",
          "text": [
            "pred lenght: 10\n",
            "best_prediction 7\n"
          ],
          "name": "stdout"
        }
      ]
    },
    {
      "cell_type": "markdown",
      "metadata": {
        "id": "KXKryioVKcuQ",
        "colab_type": "text"
      },
      "source": [
        "# Hard Sampe for recognition"
      ]
    },
    {
      "cell_type": "code",
      "metadata": {
        "id": "aczsb-ZYHfhr",
        "colab_type": "code",
        "colab": {}
      },
      "source": [
        "import numpy as np\n",
        "\n",
        "def show_failures(predictions, trueclass=None, predictedclass=None, maxtoshow=5):\n",
        "    rounded = np.argmax(predictions, axis=1)\n",
        "    errors = rounded!=y_test\n",
        "    print('Showing max', maxtoshow, 'first failures. '\n",
        "          'The predicted class is shown first and the correct class in parenthesis.')\n",
        "    ii = 0\n",
        "    plt.figure(figsize=(maxtoshow, 1))\n",
        "    for i in range(x_test.shape[0]):\n",
        "        if ii>=maxtoshow:\n",
        "            break\n",
        "        if errors[i]:\n",
        "            if trueclass is not None and y_test[i] != trueclass:\n",
        "                continue\n",
        "            if predictedclass is not None and predictions[i] != predictedclass:\n",
        "                continue\n",
        "            plt.subplot(1, maxtoshow, ii+1)\n",
        "            plt.axis('off')\n",
        "            plt.imshow(x_test[i,:,:,0], cmap=\"gray\")\n",
        "            plt.title(\"%d (%d)\" % (rounded[i], y_test[i]))\n",
        "            ii = ii + 1"
      ],
      "execution_count": 0,
      "outputs": []
    },
    {
      "cell_type": "code",
      "metadata": {
        "id": "slvLeeO1Jw39",
        "colab_type": "code",
        "outputId": "5c5a1737-b2a7-4438-bdf5-e41882cd5594",
        "colab": {
          "base_uri": "https://localhost:8080/",
          "height": 130
        }
      },
      "source": [
        "predictions = loaded_model.predict(x_test)\n",
        "\n",
        "show_failures(predictions)"
      ],
      "execution_count": 0,
      "outputs": [
        {
          "output_type": "stream",
          "text": [
            "Showing max 5 first failures. The predicted class is shown first and the correct class in parenthesis.\n"
          ],
          "name": "stdout"
        },
        {
          "output_type": "display_data",
          "data": {
            "image/png": "[encoded data removed]",
            "text/plain": [
              "<Figure size 360x72 with 5 Axes>"
            ]
          },
          "metadata": {
            "tags": []
          }
        }
      ]
    },
    {
      "cell_type": "code",
      "metadata": {
        "id": "qo24wubXJ0Tt",
        "colab_type": "code",
        "colab": {}
      },
      "source": [
        ""
      ],
      "execution_count": 0,
      "outputs": []
    }
  ]
}